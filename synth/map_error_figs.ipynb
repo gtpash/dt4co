{
 "cells": [
  {
   "cell_type": "markdown",
   "id": "6adde802",
   "metadata": {},
   "source": [
    "## Visualize error in reconstructed parameters\n",
    "This notebook visualizes the error in the reconstructed parameters after calibration, i.e., the MAP point.\n",
    "\n",
    "- The true log-diffusion coefficient is determined by the tissue segmentations and applied in the forward simulation with a DG-0 indicator function. The error is computed and projected in a DG-1 finite element space and then rasterized in the NIfTI (data space) for visualization with `matplotlib`\n",
    "- The true log-reaction coefficient is homogeneous. The comparison is calculated in the native CG-1 finite element space and then rasterized in the NIfTI (data space) for visualization."
   ]
  },
  {
   "cell_type": "code",
   "execution_count": null,
   "id": "6d7fe178",
   "metadata": {},
   "outputs": [],
   "source": [
    "import os\n",
    "import sys\n",
    "\n",
    "import ufl\n",
    "import dolfin as dl\n",
    "import numpy as np\n",
    "import nibabel\n",
    "import matplotlib.pyplot as plt\n",
    "\n",
    "sys.path.append(os.environ.get(\"HIPPYLIB_PATH\"))\n",
    "import hippylib as hp\n",
    "\n",
    "sys.path.append(os.path.join(os.getenv(\"DT4CO_PATH\"), \"src\"))\n",
    "from dt4co.synth import synthExperiment\n",
    "from dt4co.utils.mesh_utils import load_mesh_subs\n",
    "from dt4co.utils.fenics_io import read_mv_from_h5\n",
    "from dt4co.utils.model_utils import solveIndicators\n",
    "from dt4co.utils.data_utils import niftiPointwiseObservationOp, rasterizeFunction, nifti2Function, get_slice_number"
   ]
  },
  {
   "cell_type": "code",
   "execution_count": 2,
   "id": "c19bd943",
   "metadata": {},
   "outputs": [],
   "source": [
    "MESH_FPATH = \"/storage1/transfer/gtp/sub-00101_study/mesh/full64-all.h5\"\n",
    "MAP_FPATH = \"/storage1/transfer/gtp/sub-00101_study/rdtx_freq1_bip/rdtx_freq1_param_data.h5\"\n",
    "PATIENT_DIR = \"/storage/graham/data/UPENN-GBM/sub-00101\"\n",
    "REF_NII = os.path.join(PATIENT_DIR, \"tumor_fs.nii\")\n",
    "\n",
    "SLICES = [65, 80, 95, 110]\n",
    "FIGSIZE = (10, 10)\n",
    "light_black = [0.1, 0.1, 0.1]\n",
    "FONTSIZE = 48\n",
    "LABEL_FS = 36\n",
    "FONTWEIGHT = \"bold\"\n",
    "\n",
    "OUTPUT_DIR = \"error_figs\"\n",
    "os.makedirs(OUTPUT_DIR, exist_ok=True)"
   ]
  },
  {
   "cell_type": "code",
   "execution_count": 3,
   "id": "6c8da214",
   "metadata": {},
   "outputs": [],
   "source": [
    "# Load in the mesh and subdomains.\n",
    "COMM = dl.MPI.comm_world\n",
    "mesh, subs, bndrys = load_mesh_subs(COMM, MESH_FPATH)\n",
    "\n",
    "# Set up the experiment and function spaces.\n",
    "exp = synthExperiment()\n",
    "    \n",
    "#  Set up variational spaces for state and parameter.\n",
    "Vhtrue = exp.setupFunctionSpaces(mesh, mle=False)\n",
    "Vh = exp.setupBIPFunctionSpaces(mesh, mle=False)\n",
    "VhDG0 = dl.FunctionSpace(mesh, \"DG\", 0)\n",
    "VhDG1 = dl.FunctionSpace(mesh, \"DG\", 1)\n",
    "VhCG1 = dl.FunctionSpace(mesh, \"CG\", 1)\n",
    "chi_gm = solveIndicators(mesh, subs, 1)"
   ]
  },
  {
   "cell_type": "code",
   "execution_count": 4,
   "id": "46fcd8d9",
   "metadata": {},
   "outputs": [],
   "source": [
    "# Get the true parameter.\n",
    "mtrue = exp.trueParameter(Vhtrue, sample=False)\n",
    "mtruefun = hp.vector2Function(mtrue, Vhtrue[hp.PARAMETER])\n",
    "mtrue_dgm, mtrue_dwm, mtrue_k = ufl.split(mtruefun)\n",
    "\n",
    "# Read back the MAP point.\n",
    "mfun = dl.Function(Vh[hp.PARAMETER])\n",
    "mmap = hp.MultiVector(mfun.vector(), 1)\n",
    "read_mv_from_h5(COMM, mmap, Vh[hp.PARAMETER], MAP_FPATH, name=[\"map\"])\n",
    "\n",
    "mapfun = hp.vector2Function(mmap[0], Vh[hp.PARAMETER])\n",
    "map_d, map_k = mapfun.split()"
   ]
  },
  {
   "cell_type": "code",
   "execution_count": 5,
   "id": "9b4a76b0",
   "metadata": {},
   "outputs": [],
   "source": [
    "# Compute error in the MAP estimate for log-diffusion in the DG1 space.\n",
    "map_dpw = map_d * chi_gm + map_d * (1. - chi_gm)\n",
    "error_expr = (dl.Constant(np.log(exp.DG_TRUE)) - map_d) * chi_gm + (dl.Constant(np.log(exp.DW_TRUE)) - map_d) * (1. - chi_gm)\n",
    "error_fn_md = dl.project(error_expr, VhDG1)\n",
    "\n",
    "# Compute error in the MAP estimate for log-reaction in the CG1 space.\n",
    "error_expr = (dl.Constant(np.log(exp.K_TRUE)) - map_k)\n",
    "error_fn_mk = dl.project(error_expr, VhCG1)\n",
    "\n",
    "# Assemble pointwise observation operators.\n",
    "BopDG1 = niftiPointwiseObservationOp(REF_NII, VhDG1)\n",
    "BopCG1 = niftiPointwiseObservationOp(REF_NII, VhCG1)"
   ]
  },
  {
   "cell_type": "code",
   "execution_count": 6,
   "id": "b8fda1ad",
   "metadata": {},
   "outputs": [],
   "source": [
    "# Write the output.\n",
    "rasterizeFunction(error_fn_md, VhDG1, REF_NII, \"md_error_fn.nii\", BopDG1)\n",
    "rasterizeFunction(error_fn_mk, VhCG1, REF_NII, \"mk_error_fn.nii\", BopCG1)"
   ]
  },
  {
   "cell_type": "markdown",
   "id": "4c7890b9",
   "metadata": {},
   "source": [
    "### Display the errors in the reconstructed log-diffusion field"
   ]
  },
  {
   "cell_type": "code",
   "execution_count": 7,
   "id": "593b2af6",
   "metadata": {},
   "outputs": [],
   "source": [
    "errornii = nibabel.load(\"md_error_fn.nii\")\n",
    "VABS = 3  # check this for different reconstructions.\n",
    "\n",
    "for sidx, slice in enumerate(SLICES):\n",
    "    vv = get_slice_number(errornii, -slice)\n",
    "    \n",
    "    fig = plt.figure(figsize=FIGSIZE)\n",
    "    ax = fig.add_subplot(111)\n",
    "    ax.imshow(errornii.get_fdata()[:, :, vv], cmap='seismic', vmin=-VABS, vmax=VABS)\n",
    "    ax.axis('off')\n",
    "    \n",
    "    plt.savefig(os.path.join(OUTPUT_DIR, f\"error_map_md_{slice}.pdf\"), dpi=300)\n",
    "    \n",
    "    if sidx == 0:\n",
    "        cbar = fig.colorbar(ax.images[0], location='top')\n",
    "        cbar.set_label('log(mm$^3$/day)', fontsize=FONTSIZE, color=light_black, fontfamily='sans-serif', fontweight=FONTWEIGHT)\n",
    "        cbar.ax.tick_params(labelsize=LABEL_FS, color=light_black)\n",
    "        \n",
    "        plt.savefig(os.path.join(OUTPUT_DIR, f\"error_map_md_{slice}_cbar.pdf\"), dpi=300)\n",
    "    \n",
    "    plt.close(fig)"
   ]
  },
  {
   "cell_type": "markdown",
   "id": "f05731ac",
   "metadata": {},
   "source": [
    "### Display the errors in the reconstructed log-reaction field"
   ]
  },
  {
   "cell_type": "code",
   "execution_count": 8,
   "id": "b18127bf",
   "metadata": {},
   "outputs": [],
   "source": [
    "errornii = nibabel.load(\"mk_error_fn.nii\")\n",
    "VABS = 0.8  # check this for different reconstructions.\n",
    "\n",
    "for sidx, slice in enumerate(SLICES):\n",
    "    vv = get_slice_number(errornii, -slice)\n",
    "\n",
    "    fig = plt.figure(figsize=FIGSIZE)\n",
    "    ax = fig.add_subplot(111)\n",
    "    ax.imshow(errornii.get_fdata()[:, :, vv], cmap='seismic', vmin=-VABS, vmax=VABS)\n",
    "    ax.axis('off')\n",
    "    \n",
    "    plt.savefig(os.path.join(OUTPUT_DIR, f\"error_map_mk_{slice}.pdf\"), dpi=300)\n",
    "    \n",
    "    if sidx == 0:\n",
    "        cbar = fig.colorbar(ax.images[0], location='top')\n",
    "        cbar.set_label('log(1/day)', fontsize=FONTSIZE, color=light_black, fontfamily='sans-serif', fontweight=FONTWEIGHT)\n",
    "        cbar.ax.tick_params(labelsize=LABEL_FS, color=light_black)\n",
    "        \n",
    "        plt.savefig(os.path.join(OUTPUT_DIR, f\"error_map_mk_{slice}_cbar.pdf\"), dpi=300)\n",
    "    \n",
    "    plt.close(fig)"
   ]
  },
  {
   "cell_type": "markdown",
   "id": "0bbf9be4",
   "metadata": {},
   "source": [
    "### Cleanup"
   ]
  },
  {
   "cell_type": "code",
   "execution_count": 9,
   "id": "4ff31ea0",
   "metadata": {},
   "outputs": [],
   "source": [
    "os.remove(\"md_error_fn.nii\")\n",
    "os.remove(\"mk_error_fn.nii\")"
   ]
  }
 ],
 "metadata": {
  "kernelspec": {
   "display_name": "gbm3.12",
   "language": "python",
   "name": "python3"
  },
  "language_info": {
   "codemirror_mode": {
    "name": "ipython",
    "version": 3
   },
   "file_extension": ".py",
   "mimetype": "text/x-python",
   "name": "python",
   "nbconvert_exporter": "python",
   "pygments_lexer": "ipython3",
   "version": "3.12.4"
  }
 },
 "nbformat": 4,
 "nbformat_minor": 5
}
